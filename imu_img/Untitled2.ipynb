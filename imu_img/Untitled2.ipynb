{
 "cells": [
  {
   "cell_type": "code",
   "execution_count": 5,
   "id": "b3feb718",
   "metadata": {},
   "outputs": [
    {
     "name": "stdout",
     "output_type": "stream",
     "text": [
      "Image size: 1920 1080 3\n"
     ]
    },
    {
     "ename": "error",
     "evalue": "OpenCV(4.5.3) /tmp/pip-req-build-9gwtlx3c/opencv/modules/highgui/src/window.cpp:1257: error: (-2:Unspecified error) The function is not implemented. Rebuild the library with Windows, GTK+ 2.x or Cocoa support. If you are on Ubuntu or Debian, install libgtk2.0-dev and pkg-config, then re-run cmake or configure script in function 'cvNamedWindow'\n",
     "output_type": "error",
     "traceback": [
      "\u001b[0;31m---------------------------------------------------------------------------\u001b[0m",
      "\u001b[0;31merror\u001b[0m                                     Traceback (most recent call last)",
      "\u001b[0;32m<ipython-input-5-a61c4cbbe943>\u001b[0m in \u001b[0;36m<module>\u001b[0;34m\u001b[0m\n\u001b[1;32m     54\u001b[0m \u001b[0;34m\u001b[0m\u001b[0m\n\u001b[1;32m     55\u001b[0m \u001b[0mget_ipython\u001b[0m\u001b[0;34m(\u001b[0m\u001b[0;34m)\u001b[0m\u001b[0;34m.\u001b[0m\u001b[0mrun_line_magic\u001b[0m\u001b[0;34m(\u001b[0m\u001b[0;34m'matplotlib'\u001b[0m\u001b[0;34m,\u001b[0m \u001b[0;34m'notebook'\u001b[0m\u001b[0;34m)\u001b[0m\u001b[0;34m\u001b[0m\u001b[0;34m\u001b[0m\u001b[0m\n\u001b[0;32m---> 56\u001b[0;31m \u001b[0mcv2\u001b[0m\u001b[0;34m.\u001b[0m\u001b[0mnamedWindow\u001b[0m\u001b[0;34m(\u001b[0m\u001b[0;34m'image'\u001b[0m\u001b[0;34m)\u001b[0m\u001b[0;34m\u001b[0m\u001b[0;34m\u001b[0m\u001b[0m\n\u001b[0m\u001b[1;32m     57\u001b[0m \u001b[0mcv2\u001b[0m\u001b[0;34m.\u001b[0m\u001b[0msetMouseCallback\u001b[0m\u001b[0;34m(\u001b[0m\u001b[0;34m'image'\u001b[0m\u001b[0;34m,\u001b[0m \u001b[0mon_EVENT_LBUTTONDOWN\u001b[0m\u001b[0;34m)\u001b[0m\u001b[0;34m\u001b[0m\u001b[0;34m\u001b[0m\u001b[0m\n\u001b[1;32m     58\u001b[0m \u001b[0mcv2\u001b[0m\u001b[0;34m.\u001b[0m\u001b[0mimshow\u001b[0m\u001b[0;34m(\u001b[0m\u001b[0;34m'image'\u001b[0m\u001b[0;34m,\u001b[0m \u001b[0mimg\u001b[0m\u001b[0;34m)\u001b[0m\u001b[0;34m\u001b[0m\u001b[0;34m\u001b[0m\u001b[0m\n",
      "\u001b[0;31merror\u001b[0m: OpenCV(4.5.3) /tmp/pip-req-build-9gwtlx3c/opencv/modules/highgui/src/window.cpp:1257: error: (-2:Unspecified error) The function is not implemented. Rebuild the library with Windows, GTK+ 2.x or Cocoa support. If you are on Ubuntu or Debian, install libgtk2.0-dev and pkg-config, then re-run cmake or configure script in function 'cvNamedWindow'\n"
     ]
    }
   ],
   "source": [
    "# -*- coding: utf-8 -*-\n",
    "# @Author  : xuelun\n",
    "import os\n",
    "import cv2\n",
    "import numpy as np\n",
    "import sys\n",
    "from matplotlib import pyplot as plt\n",
    "\n",
    "\n",
    "scale = 5\n",
    "size = 50\n",
    "# if len(sys.argv) < 2:\n",
    "#     print('请输入图片路径')\n",
    "#     exit(-1)\n",
    "# imgPath = sys.argv[1]\n",
    "# imgPath = 'G:\\CamareCalibarate\\corrida_1\\pick.jpg'\n",
    "imgPath = '/mnt/d/human_data/0724/0724_frame/images/frame30.jpg'\n",
    "img = cv2.imread(imgPath)\n",
    "origin = img\n",
    "c = width = img.shape[2]\n",
    "w = width = img.shape[1]\n",
    "h = width = img.shape[0]\n",
    "print(\"Image size:\", w, h, c)\n",
    "\n",
    "list_xy = []\n",
    "\n",
    "\n",
    "def on_EVENT_LBUTTONDOWN(event, x, y, flags, param):\n",
    "    if event == cv2.EVENT_LBUTTONDOWN:\n",
    "        list_xy.append([x, y])\n",
    "        xy = \"%d,%d\" % (x, y)\n",
    "        print(xy)\n",
    "        cv2.circle(img, (x, y), 1, (255, 0, 0), thickness=-1)\n",
    "        cv2.putText(img, xy, (x, y), cv2.FONT_HERSHEY_PLAIN,\n",
    "                    1.0, (0, 0, 0), thickness=1)\n",
    "        cv2.imshow('image', img)\n",
    "    if event == cv2.EVENT_MOUSEMOVE:\n",
    "        xy = \"%d,%d\" % (x, y)\n",
    "        ymin = max(0, y-size)\n",
    "        ymax = min(h, y+size)\n",
    "        xmin = max(0, x-size)\n",
    "        xmax = min(w, x+size)\n",
    "        xsize = (xmax - xmin) * scale\n",
    "        ysize = (ymax - ymin) * scale\n",
    "\n",
    "        area = origin[ymin:ymax, xmin:xmax].copy()\n",
    "        area = cv2.resize(area, dsize=(xsize, ysize),\n",
    "                          interpolation=cv2.INTER_LINEAR)\n",
    "        cv2.circle(area, ((x-xmin) * scale, (y-ymin) * scale),\n",
    "                   3, (255, 0, 0), thickness=-1)\n",
    "        cv2.putText(area, xy, ((x-xmin) * scale, (y-ymin) * scale), cv2.FONT_HERSHEY_PLAIN,\n",
    "                    1.0, (0, 0, 255), thickness=1)\n",
    "        cv2.imshow('area', area)\n",
    "\n",
    "%matplotlib notebook\n",
    "cv2.namedWindow('image')\n",
    "cv2.setMouseCallback('image', on_EVENT_LBUTTONDOWN)\n",
    "cv2.imshow('image', img)\n",
    "\n",
    "while (cv2.getWindowProperty('image', cv2.WND_PROP_VISIBLE) < 0):\n",
    "    try:\n",
    "        cv2.waitKey(100)\n",
    "    except Exception:\n",
    "        cv2.destroyWindows()\n",
    "        break\n",
    "\n",
    "cv2.waitKey(0)\n",
    "cv2.destroyAllWindows()\n",
    "\n",
    "imgdir = os.path.dirname(imgPath)\n",
    "np.savetxt(os.path.join(imgdir, 'list_2d.txt'), np.array(list_xy), fmt='%d')\n",
    "cv2.imwrite(os.path.join(imgdir, 'picked.jpg'), img)\n"
   ]
  },
  {
   "cell_type": "code",
   "execution_count": null,
   "id": "6e64eb5c",
   "metadata": {},
   "outputs": [],
   "source": []
  }
 ],
 "metadata": {
  "kernelspec": {
   "display_name": "Python [conda env:pose] *",
   "language": "python",
   "name": "conda-env-pose-py"
  },
  "language_info": {
   "codemirror_mode": {
    "name": "ipython",
    "version": 3
   },
   "file_extension": ".py",
   "mimetype": "text/x-python",
   "name": "python",
   "nbconvert_exporter": "python",
   "pygments_lexer": "ipython3",
   "version": "3.6.13"
  }
 },
 "nbformat": 4,
 "nbformat_minor": 5
}
